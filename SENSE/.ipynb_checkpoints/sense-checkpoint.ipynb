{
 "cells": [
  {
   "cell_type": "markdown",
   "id": "b5eb86c3",
   "metadata": {},
   "source": [
    "# SENSE reconstruction \n",
    "###### Author: Zimu Huo\n",
    "###### Date: 02.2022\n",
    "\n",
    "\n",
    "-------------------------------------------------------------------------\n",
    "References\n",
    "    \n",
    "    [1] \n",
    "    Author: Klaas P. Pruessmann et al. \n",
    "    Title: SENSE: Sensitivity Encoding for Fast MRI\n",
    "    Link: https://pubmed.ncbi.nlm.nih.gov/10542355/"
   ]
  },
  {
   "cell_type": "code",
   "execution_count": 2,
   "id": "6bb0ba48",
   "metadata": {},
   "outputs": [],
   "source": [
    "import sys\n",
    "sys.path.insert(1, '../')\n",
    "import matplotlib.pyplot as plt\n",
    "import util.coil as coil \n",
    "import util.phantom as phantom\n",
    "import numpy as np\n",
    "import util.mask as undersample\n",
    "from util.fft import *\n",
    "# from util.SENSE import *\n",
    "from util.sense import * \n",
    "import util.simulator as simulator"
   ]
  },
  {
   "cell_type": "code",
   "execution_count": 3,
   "id": "277a64d5-5d1d-45e4-9e33-dc2b2a193cc7",
   "metadata": {},
   "outputs": [],
   "source": [
    "R = 2\n",
    "data = np.load(\"../lib/slice1_grappa1.npy\")"
   ]
  },
  {
   "cell_type": "code",
   "execution_count": 4,
   "id": "0a25fd72-25a5-4e8f-8dbd-0fbaf162c5f8",
   "metadata": {},
   "outputs": [
    {
     "data": {
      "image/png": "[encoded data removed]",
      "text/plain": [
       "<Figure size 640x480 with 1 Axes>"
      ]
     },
     "metadata": {},
     "output_type": "display_data"
    }
   ],
   "source": [
    "show(ifft2c(data))"
   ]
  },
  {
   "cell_type": "code",
   "execution_count": 5,
   "id": "a5867dd0-adcc-451d-9a52-73d849ae9c2d",
   "metadata": {},
   "outputs": [
    {
     "data": {
      "image/png": "[encoded data removed]",
      "text/plain": [
       "<Figure size 640x480 with 1 Axes>"
      ]
     },
     "metadata": {},
     "output_type": "display_data"
    }
   ],
   "source": [
    "show(coil.inati_cmap(ifft2c(data)))"
   ]
  },
  {
   "cell_type": "code",
   "execution_count": 6,
   "id": "5d511fe7",
   "metadata": {
    "tags": []
   },
   "outputs": [],
   "source": [
    "R = 2\n",
    "dataR = data * undersample.sense(data.shape, R)\n",
    "acs =  simulator.acs(data, (32,32))"
   ]
  },
  {
   "cell_type": "code",
   "execution_count": 7,
   "id": "3c13fd2e-19bd-4062-b639-68c605f61f5f",
   "metadata": {},
   "outputs": [
    {
     "data": {
      "image/png": "[encoded data removed]",
      "text/plain": [
       "<Figure size 640x480 with 1 Axes>"
      ]
     },
     "metadata": {},
     "output_type": "display_data"
    }
   ],
   "source": [
    "show(ifft2c(dataR))"
   ]
  },
  {
   "cell_type": "code",
   "execution_count": 8,
   "id": "05f80f90-f3ff-4bb9-bfab-d9c812ffb6d2",
   "metadata": {},
   "outputs": [],
   "source": [
    "from tqdm.notebook import tqdm\n",
    "import util.coil as coil \n",
    "from util.zpad import * \n",
    "from util.fft import * \n",
    "def sense(dataR, acs, lamda = 1E-4):\n",
    "    mask = np.where(dataR[:,0,0] == 0, 0, 1).flatten()\n",
    "    R = int(np.ceil(mask.shape[0]/np.sum(mask)))\n",
    "    [ny, nx, nc] = dataR.shape\n",
    "    images = ifft2c(dataR)\n",
    "    readny = int(ny/R)\n",
    "    pat = ifft2c(zpad(acs, (ny, nx), (0,1)))\n",
    "    coilmaps = coil.walsh_cmap(pat) \n",
    "    coilmaps = coilmaps / np.max(coil.rsos(coilmaps))\n",
    "    recon = np.zeros([ny,nx], dtype = complex)\n",
    "    for x in (range(nx)):\n",
    "        for y in range(readny):\n",
    "            yidx = np.arange(y,ny,readny)\n",
    "            S = coilmaps[yidx,x,:]\n",
    "            STS = S.T @ S     \n",
    "            #M = np.linalg.inv(STS+np.eye(STS.shape[0])*lamda*np.linalg.norm(STS)/STS.shape[0])@S.T \n",
    "            M = np.linalg.pinv(STS)@S.T \n",
    "            recon[yidx,x] = M.T@images[y,x,:]\n",
    "    return recon"
   ]
  },
  {
   "cell_type": "code",
   "execution_count": null,
   "id": "f54d2bbc-01a8-43d3-9493-f2f91e0aa126",
   "metadata": {},
   "outputs": [],
   "source": [
    "recon = sense(dataR, acs)"
   ]
  },
  {
   "cell_type": "code",
   "execution_count": null,
   "id": "2621c37b",
   "metadata": {},
   "outputs": [],
   "source": [
    "plt.figure(figsize=(16, 12), dpi=80)\n",
    "plt.subplot(121)\n",
    "plt.imshow(np.abs(coil.rsos(ifft2c(dataR))), cmap='gray')\n",
    "plt.title(\"Aliased image R = \"+str(R))\n",
    "plt.subplot(122)\n",
    "plt.imshow(np.abs(recon), cmap='gray')\n",
    "plt.title(\"Reconstructed SENSE\")\n",
    "plt.show()"
   ]
  },
  {
   "cell_type": "code",
   "execution_count": null,
   "id": "535b9ed3-8e8c-426c-a811-3668f2c1aee7",
   "metadata": {},
   "outputs": [],
   "source": []
  }
 ],
 "metadata": {
  "kernelspec": {
   "display_name": "Python 3 (ipykernel)",
   "language": "python",
   "name": "python3"
  },
  "language_info": {
   "codemirror_mode": {
    "name": "ipython",
    "version": 3
   },
   "file_extension": ".py",
   "mimetype": "text/x-python",
   "name": "python",
   "nbconvert_exporter": "python",
   "pygments_lexer": "ipython3",
   "version": "3.8.19"
  },
  "toc": {
   "base_numbering": 1,
   "nav_menu": {},
   "number_sections": true,
   "sideBar": true,
   "skip_h1_title": false,
   "title_cell": "Table of Contents",
   "title_sidebar": "Contents",
   "toc_cell": false,
   "toc_position": {},
   "toc_section_display": true,
   "toc_window_display": false
  },
  "varInspector": {
   "cols": {
    "lenName": 16,
    "lenType": 16,
    "lenVar": 40
   },
   "kernels_config": {
    "python": {
     "delete_cmd_postfix": "",
     "delete_cmd_prefix": "del ",
     "library": "var_list.py",
     "varRefreshCmd": "print(var_dic_list())"
    },
    "r": {
     "delete_cmd_postfix": ") ",
     "delete_cmd_prefix": "rm(",
     "library": "var_list.r",
     "varRefreshCmd": "cat(var_dic_list()) "
    }
   },
   "types_to_exclude": [
    "module",
    "function",
    "builtin_function_or_method",
    "instance",
    "_Feature"
   ],
   "window_display": false
  }
 },
 "nbformat": 4,
 "nbformat_minor": 5
}
