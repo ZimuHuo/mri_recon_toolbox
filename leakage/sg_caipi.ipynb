{
 "cells": [
  {
   "cell_type": "markdown",
   "id": "83bc214d",
   "metadata": {},
   "source": [
    "## slice leakage SMS\n",
    "###### Author: Zimu Huo\n",
    "###### Date: 06.2022\n",
    "\n",
    "The slice-leakage is an artefact where the information from one slice is unintentionally transmitted to another slice during reconstruction. For example, if slice A contains apples and slice B contains bananas, any bananas found on slice A would be considered as slice leakage. The current method involves using a Monte Carlo simulation to impose unique frequency modulations on each slice. After reconstructions, the slice leakage can be determined by quantifying the frequency modulations on each individual slice. For example, if we add a 4 Hz modulation on slice A and a 6 Hz modulation on slice B, any 6 Hz component found on slice A after the reconstruction could be used to indicate slice leakage.\n",
    "\n",
    "Here I showed four difference cases, slice grappa without caipi, slice grappa with caipi, split slice slice grappa without caipi, and spliy slice slice grappa with caipi\n",
    "\n",
    "-------------------------------------------------------------------------\n",
    "References\n",
    "    \n",
    "    [1] \n",
    "    Author: Steen Moeller et al. \n",
    "    Title: Signal Leakage(L-Factor) as a Measure for Parallel Imaging Performance Among Simultaneously Multi-Slice (SMS) Excited & Acquired Signals\n",
    "    Link: https://archive.ismrm.org/2012/0519.html\n",
    "    "
   ]
  },
  {
   "cell_type": "code",
   "execution_count": 26,
   "id": "013002aa",
   "metadata": {},
   "outputs": [],
   "source": [
    "import sys\n",
    "sys.path.insert(1, '../')\n",
    "import numpy as np\n",
    "import matplotlib.pyplot as plt\n",
    "from util.coil import *\n",
    "import util.mask as undersample\n",
    "from util.fft import *\n",
    "from util.simulator import * \n",
    "import util.phantom as phantom\n",
    "from util.gfactor import *\n",
    "from tqdm.notebook import tqdm\n",
    "from util.zpad import *\n",
    "from scipy import io\n",
    "import util.simulator as simulator\n",
    "from util.sg import * "
   ]
  },
  {
   "cell_type": "markdown",
   "id": "8f45e57c-e834-4cce-9834-d41229941af6",
   "metadata": {},
   "source": [
    "# case 1 sg no caipi"
   ]
  },
  {
   "cell_type": "code",
   "execution_count": 29,
   "id": "26541aff-e9f0-4ea4-b539-2acf5986bb1f",
   "metadata": {},
   "outputs": [],
   "source": [
    "slice1 = np.load(\"../lib/slice1_grappa1.npy\")\n",
    "slice2 = np.load(\"../lib/slice2_grappa1.npy\")\n",
    "slice3 = np.load(\"../lib/slice3_grappa1.npy\")\n",
    "slice4 = np.load(\"../lib/slice4_grappa1.npy\")\n",
    "acc = np.concatenate((slice1[...,None], slice2[...,None], slice3[...,None], slice4[...,None]), -1)\n",
    "ny, nx, nc , ns = acc.shape"
   ]
  },
  {
   "cell_type": "markdown",
   "id": "d8842d83-3edb-4062-9929-18f5e549ad9a",
   "metadata": {},
   "source": [
    "<div style=\"font-size: 1.2em;\">\n",
    "Her we first impose different frequencies on each slices across the time dimension\n",
    "</div>\n"
   ]
  },
  {
   "cell_type": "code",
   "execution_count": null,
   "id": "a4a6c651-8ca5-4140-8594-74b9356d9300",
   "metadata": {},
   "outputs": [],
   "source": [
    "from tqdm import tqdm\n",
    "nt = 100\n",
    "sample_rate = nt\n",
    "leakage = np.zeros((ny, nx, ns, nt), dtype = complex)\n",
    "for i in tqdm(range(nt)):\n",
    "    cycle = np.arange(0,1,1/ns) * 2* np.pi\n",
    "    shift = cycle*ny/(2*np.pi)\n",
    "    fakeacc = np.zeros(acc.shape, dtype = complex)\n",
    "    fakeacc[...,0]= (1+0.1*np.cos(2*4*1*np.pi*i/sample_rate))*acc[...,0]\n",
    "    fakeacc[...,1]= (1+0.1*np.cos(2*4*2*np.pi*i/sample_rate))*acc[...,1]\n",
    "    fakeacc[...,2]= (1+0.1*np.cos(2*4*3*np.pi*i/sample_rate))*acc[...,2]\n",
    "    fakeacc[...,3]= (1+0.1*np.cos(2*4*4*np.pi*i/sample_rate))*acc[...,3]\n",
    "    fakembdata = fft2c(simulator.multiSliceCAIPI(ifft2c(fakeacc), cycle, ns))\n",
    "    fakeacc = fft2c(simulator.singleSliceFov(ifft2c(fakeacc),shift))\n",
    "    recon = sg(fakembdata,simulator.acs(fakeacc,(32,32)))\n",
    "    recon = fft2c(singleSliceFov(ifft2c(recon),-shift))\n",
    "    #leakage[...,i] =  np.mean(ifft2c(recon), 2)\n",
    "    leakage[...,i] =  rsos(ifft2c(recon),-2)"
   ]
  },
  {
   "cell_type": "markdown",
   "id": "b2633313-b353-4b65-9c6a-5018966c2ca2",
   "metadata": {},
   "source": [
    "<div style=\"font-size: 1.2em;\">\n",
    "We can inspect the imposed frequency for each slice for a given pixel across time dimension\n",
    "\n",
    "In a perfect case, we should see four unique frequencies and are orthogonal by the way we imposed it \n",
    "</div>\n"
   ]
  },
  {
   "cell_type": "code",
   "execution_count": null,
   "id": "852836a5-dff4-4d36-b5e6-5e9ef1185634",
   "metadata": {},
   "outputs": [],
   "source": [
    "plt.plot(np.abs((leakage[60,60,0,:])))\n",
    "plt.plot(np.abs((leakage[60,60,1,:])))\n",
    "plt.plot(np.abs((leakage[60,60,2,:])))\n",
    "plt.plot(np.abs((leakage[60,60,3,:])))"
   ]
  },
  {
   "cell_type": "code",
   "execution_count": null,
   "id": "29ec859d-dc67-4929-99a2-68543be2ac55",
   "metadata": {},
   "outputs": [],
   "source": [
    "ns = 4\n",
    "maps = np.zeros([ny, nx, ns], dtype = complex)\n",
    "f = [54]\n",
    "for y in range(ny):\n",
    "    for x in range(nx):\n",
    "            maps[y,x, 0] = np.sum(np.abs((fft(leakage[y,x,0,:]))[f]))\n",
    "            maps[y,x, 1] = np.sum(np.abs((fft(leakage[y,x,1,:]))[f]))\n",
    "            maps[y,x, 2] = np.sum(np.abs((fft(leakage[y,x,2,:]))[f]))\n",
    "            maps[y,x, 3] = np.sum(np.abs((fft(leakage[y,x,3,:]))[f]))\n",
    "maps1 = maps\n",
    "\n",
    "ns = 4\n",
    "maps = np.zeros([ny, nx, ns], dtype = complex)\n",
    "f = [58]\n",
    "for y in range(ny):\n",
    "    for x in range(nx):\n",
    "            maps[y,x, 0] = np.sum(np.abs((fft(leakage[y,x,0,:]))[f]))\n",
    "            maps[y,x, 1] = np.sum(np.abs((fft(leakage[y,x,1,:]))[f]))\n",
    "            maps[y,x, 2] = np.sum(np.abs((fft(leakage[y,x,2,:]))[f]))\n",
    "            maps[y,x, 3] = np.sum(np.abs((fft(leakage[y,x,3,:]))[f]))\n",
    "maps2 = maps\n",
    "\n",
    "ns = 4\n",
    "maps = np.zeros([ny, nx, ns], dtype = complex)\n",
    "f = [62]\n",
    "for y in range(ny):\n",
    "    for x in range(nx):\n",
    "            maps[y,x, 0] = np.sum(np.abs((fft(leakage[y,x,0,:]))[f]))\n",
    "            maps[y,x, 1] = np.sum(np.abs((fft(leakage[y,x,1,:]))[f]))\n",
    "            maps[y,x, 2] = np.sum(np.abs((fft(leakage[y,x,2,:]))[f]))\n",
    "            maps[y,x, 3] = np.sum(np.abs((fft(leakage[y,x,3,:]))[f]))\n",
    "maps3 = maps\n",
    "\n",
    "ns = 4\n",
    "maps = np.zeros([ny, nx, ns], dtype = complex)\n",
    "f = [66]\n",
    "for y in range(ny):\n",
    "    for x in range(nx):\n",
    "            maps[y,x, 0] = np.sum(np.abs((fft(leakage[y,x,0,:]))[f]))\n",
    "            maps[y,x, 1] = np.sum(np.abs((fft(leakage[y,x,1,:]))[f]))\n",
    "            maps[y,x, 2] = np.sum(np.abs((fft(leakage[y,x,2,:]))[f]))\n",
    "            maps[y,x, 3] = np.sum(np.abs((fft(leakage[y,x,3,:]))[f]))\n",
    "\n",
    "maps4 = maps\n",
    "\n",
    "plt.figure(figsize = (16,12))\n",
    "plt.title(\"slice leakage for slice 1\")\n",
    "plt.imshow(np.abs(maps1).reshape(ny,-1, order = \"F\"), cmap = \"jet\")\n",
    "plt.show()     \n",
    "plt.figure(figsize = (16,12))\n",
    "plt.title(\"slice leakage for slice 2\")\n",
    "plt.imshow(np.abs(maps2).reshape(ny,-1, order = \"F\"), cmap = \"jet\")\n",
    "plt.show()     \n",
    "plt.figure(figsize = (16,12))\n",
    "plt.title(\"slice leakage for slice 3\")\n",
    "plt.imshow(np.abs(maps3).reshape(ny,-1, order = \"F\"), cmap = \"jet\")\n",
    "plt.show()     \n",
    "plt.figure(figsize = (16,12))\n",
    "plt.title(\"slice leakage for slice 4\")\n",
    "plt.imshow(np.abs(maps4).reshape(ny,-1, order = \"F\"), cmap = \"jet\")\n",
    "plt.show()     "
   ]
  },
  {
   "cell_type": "code",
   "execution_count": null,
   "id": "8bb719a5-a03d-46fb-8f02-9097b8b6718b",
   "metadata": {},
   "outputs": [],
   "source": [
    "slice1 = maps2[:,:,0] + maps3[:,:,0]+maps4[:,:,0]\n",
    "slice2 = maps1[:,:,1] + maps3[:,:,1]+maps4[:,:,1]\n",
    "slice3 = maps1[:,:,2] + maps2[:,:,2]+maps4[:,:,2]\n",
    "slice4 = maps1[:,:,3] + maps2[:,:,3]+maps3[:,:,3]\n",
    "leakage_sg_nocaipi = np.abs(np.concatenate((slice1, slice2, slice3, slice4),-1)).reshape(ny,-1, order = \"F\")\n",
    "plt.figure(figsize = (16,12),dpi=80)\n",
    "tf = plt.imshow(leakage_sg_caipi,cmap='jet')\n",
    "plt.colorbar(tf, fraction=0.046, pad=0.04)"
   ]
  },
  {
   "cell_type": "code",
   "execution_count": null,
   "id": "80d6c440-7c79-4465-9fa4-b4706873e603",
   "metadata": {},
   "outputs": [],
   "source": [
    "# case 2 sg with caipi"
   ]
  },
  {
   "cell_type": "code",
   "execution_count": null,
   "id": "f49aae69-9a2a-46af-8467-461dc90abd1e",
   "metadata": {},
   "outputs": [],
   "source": []
  }
 ],
 "metadata": {
  "kernelspec": {
   "display_name": "Python 3 (ipykernel)",
   "language": "python",
   "name": "python3"
  },
  "language_info": {
   "codemirror_mode": {
    "name": "ipython",
    "version": 3
   },
   "file_extension": ".py",
   "mimetype": "text/x-python",
   "name": "python",
   "nbconvert_exporter": "python",
   "pygments_lexer": "ipython3",
   "version": "3.8.19"
  },
  "toc": {
   "base_numbering": 1,
   "nav_menu": {},
   "number_sections": true,
   "sideBar": true,
   "skip_h1_title": false,
   "title_cell": "Table of Contents",
   "title_sidebar": "Contents",
   "toc_cell": false,
   "toc_position": {},
   "toc_section_display": true,
   "toc_window_display": false
  },
  "varInspector": {
   "cols": {
    "lenName": 16,
    "lenType": 16,
    "lenVar": 40
   },
   "kernels_config": {
    "python": {
     "delete_cmd_postfix": "",
     "delete_cmd_prefix": "del ",
     "library": "var_list.py",
     "varRefreshCmd": "print(var_dic_list())"
    },
    "r": {
     "delete_cmd_postfix": ") ",
     "delete_cmd_prefix": "rm(",
     "library": "var_list.r",
     "varRefreshCmd": "cat(var_dic_list()) "
    }
   },
   "types_to_exclude": [
    "module",
    "function",
    "builtin_function_or_method",
    "instance",
    "_Feature"
   ],
   "window_display": false
  }
 },
 "nbformat": 4,
 "nbformat_minor": 5
}
