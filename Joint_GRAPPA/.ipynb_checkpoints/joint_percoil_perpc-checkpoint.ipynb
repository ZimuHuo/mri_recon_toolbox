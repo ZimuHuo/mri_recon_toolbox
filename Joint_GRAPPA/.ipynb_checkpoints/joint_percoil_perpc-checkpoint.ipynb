{
 "cells": [
  {
   "cell_type": "markdown",
   "id": "03cccf45-80e7-44c8-b939-d91cfff646ec",
   "metadata": {},
   "source": [
    "# Joint GRAPPA reconstruction demo \n",
    "###### Author: Zimu Huo\n",
    "###### Date: 07.2022\n",
    "\n",
    "I will skip the details of GRAPPA. \n",
    "\n",
    "bSSFP suffers from unique banding artifacts, which are commonly corrected by using multiple phase cycles. These banding artifacts are a form of spatial modulation. While it is tricky to exploit this with SENSE (you will need coil maps and bssfp profile maps), this additional redundancy can be easily utilized by GRAPPA. To achieve this, we simply extend the GRAPPA kernel to include the phase cycle dimensions."
   ]
  },
  {
   "cell_type": "code",
   "execution_count": null,
   "id": "f81203ea",
   "metadata": {},
   "outputs": [],
   "source": [
    "import sys\n",
    "sys.path.insert(1, '../')\n",
    "import numpy as np\n",
    "import matplotlib.pyplot as plt\n",
    "from util.coil import *\n",
    "import util.mask as undersample\n",
    "from util.fft import *\n",
    "import util.simulator as simulate\n",
    "from util.jg import *"
   ]
  },
  {
   "cell_type": "code",
   "execution_count": null,
   "id": "9f5a996a-7250-49b2-bdbe-b8f212533b69",
   "metadata": {},
   "outputs": [],
   "source": [
    "from math import log10, sqrt\n",
    "import cv2\n",
    "import numpy as np\n",
    "  \n",
    "def PSNR(original, compressed):\n",
    "    original = abs(original)\n",
    "    compressed = abs(compressed)\n",
    "    mse = np.mean((original - compressed) ** 2)\n",
    "    if(mse == 0):  # MSE is zero means no noise is present in the signal .\n",
    "                  # Therefore PSNR have no importance.\n",
    "        return 100\n",
    "    max_pixel = 255.0\n",
    "    psnr = 20 * log10(max_pixel / sqrt(mse))\n",
    "    return psnr\n",
    "    \n",
    "def plot_singular_values(matrix):\n",
    "    # Compute the singular values\n",
    "    singular_values = np.linalg.svd(matrix, compute_uv=False)\n",
    "    # print(singular_values[1]/singular_values[-1])\n",
    "    \n",
    "    # Plotting the singular values\n",
    "    plt.figure(figsize=(8, 4))\n",
    "    plt.plot(singular_values, 'o-')\n",
    "    plt.title('Singular Values')\n",
    "    plt.xlabel('Index')\n",
    "    plt.ylabel('Singular Value')\n",
    "    plt.grid(True)\n",
    "    plt.show()\n",
    "    \n",
    "def joint_grappa_weights(calib, R, kh = 4, kw = 5, lamda = 3e-3):\n",
    "    #train kernel \n",
    "    [ncy, ncx, pc, nc] = calib.shape\n",
    "    ks = pc*nc*kh*kw\n",
    "    nt = (ncy-(kh-1)*R)*(ncx-(kw-1))\n",
    "    inMat=np.zeros([nt, ks], dtype = complex)\n",
    "    outMat=np.zeros([nt,(R-1),pc, nc], dtype = complex)\n",
    "    n = 0\n",
    "    for x in ((np.arange(np.floor(kw/2),ncx-np.floor(kw/2), dtype=int))):\n",
    "        for y in (np.arange(ncy-(kh-1)*R)):\n",
    "            inMat[n,...] = calib[y:y+kh*R:R, int(x-np.floor(kw/2)):int(x+np.floor(kw/2))+1,:,:].reshape(1,-1)\n",
    "            outMat[n,...] = calib[int(y+np.floor((R*(kh-1)+1)/2) - np.floor(R/2))+1:int(y+np.floor((R*(kh-1)+1)/2)-np.floor(R/2)+R),x,:,:]\n",
    "            n = n + 1  \n",
    "    weight = np.zeros([(R-1), ks, pc, nc], dtype = complex)\n",
    "    # plot_singular_values(inMat)\n",
    "    # Solve on a per-coil, per-phase cycle basis. You can also flatten these dimensions to jointly solve across coils and phase cycles.\n",
    "    if lamda: \n",
    "        [u,s,vh] = np.linalg.svd(inMat,full_matrices=False)\n",
    "        s_inv = np.conj(s) / (np.abs(s)**2 + lamda);\n",
    "        inMat_inv = vh.conj().T @ np.diag(s_inv) @ u.conj().T;\n",
    "        for c in range(nc):\n",
    "            for p in range(pc):\n",
    "                weight[:,:,p,c] = (inMat_inv @ outMat[:,:,p,c]).T;\n",
    "    else:\n",
    "        for c in range(nc): \n",
    "            for p in range(pc):\n",
    "                weight[:,:,p,c] = (np.linalg.pinv(inMat) @ outMat[:,:,p,c]).T;\n",
    "    return weight\n",
    "\n",
    "def joint_grappa(dataR, calib, kh = 4, kw = 5, lamda = 0,combine =True, w= None, R = None):\n",
    "    if R is None:\n",
    "        mask = np.where(dataR[:,0,0] == 0, 0, 1).flatten()\n",
    "        R = int(np.ceil(mask.shape[0]/np.sum(mask)))\n",
    "\n",
    "    acs = calib\n",
    "    [ny, nx, pc, nc] = dataR.shape\n",
    "    if w is None: \n",
    "        w = joint_grappa_weights(acs, R, kh, kw, lamda)\n",
    "\n",
    "    data = np.zeros([ny, nx, pc, nc], dtype = complex)\n",
    "    for x in (range(nx)):\n",
    "        xs = get_circ_xidx(x, kw, nx)\n",
    "        for y in range (0,ny,R):\n",
    "            ys = np.mod(np.arange(y, y+(kh)*R, R), ny)\n",
    "            yf = get_circ_yidx(ys, R, kh, ny)\n",
    "            kernel = dataR[ys, :, :,:][:, xs,:,:].reshape(-1,1)\n",
    "            for c in range(nc):\n",
    "                for p in range(pc):\n",
    "                    data[yf, x, p,c] = np.matmul(w[:,:,p,c], kernel).flatten()\n",
    "    data += dataR\n",
    "    \n",
    "    images = ifft2c(data) \n",
    "    if combine:\n",
    "        return rsos(rsos(images,-1),-1)\n",
    "    else: \n",
    "        return images\n",
    "\n",
    "def get_circ_xidx(x, kw, nx):\n",
    "    return np.mod(np.linspace(x-np.floor(kw/2), x+np.floor(kw/2), kw,dtype = int),nx)\n",
    "def get_circ_yidx(ys, R, kh, ny):\n",
    "    return np.mod(np.linspace(ys[kh//2-1]+1, np.mod(ys[kh//2]-1,ny), R-1, dtype = int), ny) "
   ]
  },
  {
   "cell_type": "code",
   "execution_count": null,
   "id": "78f7b36a",
   "metadata": {},
   "outputs": [],
   "source": [
    "data = np.load(\"../lib/ssfp_pc8.npy\")\n",
    "rawImage = ifft2c(data)\n",
    "truth = rsos(rsos(rawImage,-1),-1)\n",
    "[ny, nx, pc, nc] = data.shape\n",
    "acs = simulate.acs(data, (32, 32))\n",
    "dataR = np.zeros(data.shape, dtype = complex)\n",
    "R = 4\n",
    "dataR[::R] = data[::R]"
   ]
  },
  {
   "cell_type": "code",
   "execution_count": null,
   "id": "61341be5-6cc6-42fd-ae70-07ddc158fdf2",
   "metadata": {},
   "outputs": [],
   "source": [
    "standard_recon = np.zeros([ny, nx, pc], dtype = complex)\n",
    "for p in range(pc):\n",
    "    standard_recon[:,:,p] = grappa(dataR[:,:,p,:], acs[:,:,p,:], 2, 7)\n",
    "standard_recon = rsos(standard_recon)"
   ]
  },
  {
   "cell_type": "code",
   "execution_count": null,
   "id": "17ff3d94",
   "metadata": {},
   "outputs": [],
   "source": [
    "joint_recon = joint_grappa(dataR, acs, 2, 7, lamda = 6e-3)"
   ]
  },
  {
   "cell_type": "code",
   "execution_count": null,
   "id": "3a7b575b-3967-40b9-9f2c-191dbf7348cc",
   "metadata": {},
   "outputs": [],
   "source": [
    "print(PSNR(truth,standard_recon))\n",
    "print(PSNR(truth,joint_recon)) # better results with joint recon"
   ]
  },
  {
   "cell_type": "code",
   "execution_count": null,
   "id": "959ad0c7",
   "metadata": {},
   "outputs": [],
   "source": [
    "plt.figure(figsize=(16,12))\n",
    "plt.subplot(131)\n",
    "plt.imshow(np.abs(truth),cmap='gray', vmin = 0,  vmax = 120)\n",
    "plt.title(\"ground truth\")\n",
    "plt.axis('off')\n",
    "plt.subplot(132)\n",
    "plt.imshow(np.abs(standard_recon),cmap='gray', vmin = 0,  vmax = 120)\n",
    "plt.title(\"standard grappa\")\n",
    "plt.axis('off')\n",
    "plt.subplot(133)\n",
    "plt.imshow(np.abs(joint_recon),cmap='gray', vmin = 0,  vmax = 120)\n",
    "plt.title(\"joint grappa\")\n",
    "plt.axis('off')\n",
    "plt.show()"
   ]
  }
 ],
 "metadata": {
  "kernelspec": {
   "display_name": "Python 3 (ipykernel)",
   "language": "python",
   "name": "python3"
  },
  "language_info": {
   "codemirror_mode": {
    "name": "ipython",
    "version": 3
   },
   "file_extension": ".py",
   "mimetype": "text/x-python",
   "name": "python",
   "nbconvert_exporter": "python",
   "pygments_lexer": "ipython3",
   "version": "3.8.18"
  },
  "toc": {
   "base_numbering": 1,
   "nav_menu": {},
   "number_sections": true,
   "sideBar": true,
   "skip_h1_title": false,
   "title_cell": "Table of Contents",
   "title_sidebar": "Contents",
   "toc_cell": false,
   "toc_position": {},
   "toc_section_display": true,
   "toc_window_display": false
  },
  "varInspector": {
   "cols": {
    "lenName": 16,
    "lenType": 16,
    "lenVar": 40
   },
   "kernels_config": {
    "python": {
     "delete_cmd_postfix": "",
     "delete_cmd_prefix": "del ",
     "library": "var_list.py",
     "varRefreshCmd": "print(var_dic_list())"
    },
    "r": {
     "delete_cmd_postfix": ") ",
     "delete_cmd_prefix": "rm(",
     "library": "var_list.r",
     "varRefreshCmd": "cat(var_dic_list()) "
    }
   },
   "types_to_exclude": [
    "module",
    "function",
    "builtin_function_or_method",
    "instance",
    "_Feature"
   ],
   "window_display": false
  }
 },
 "nbformat": 4,
 "nbformat_minor": 5
}
