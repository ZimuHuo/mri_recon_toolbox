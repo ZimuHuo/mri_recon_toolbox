{
 "cells": [
  {
   "cell_type": "code",
   "execution_count": 2,
   "id": "7e5ed6d8-d254-406c-a40e-edb4e8b72be9",
   "metadata": {},
   "outputs": [],
   "source": [
    "import sys\n",
    "sys.path.insert(1, '../')\n",
    "sys.path.insert(1, '../../')\n",
    "import numpy as np\n",
    "import matplotlib.pyplot as plt\n",
    "from util.coil import *\n",
    "import util.mask as undersample\n",
    "from util.fft import *\n",
    "import util.simulator as simulate\n",
    "from util.phantom import * \n",
    "from tqdm.notebook import tqdm\n",
    "from util.rank import *\n",
    "from util.zpad import *\n",
    "import scipy "
   ]
  },
  {
   "cell_type": "code",
   "execution_count": 3,
   "id": "1dbead42-918f-47f7-9548-9b212992857a",
   "metadata": {},
   "outputs": [],
   "source": [
    "def l1_prox(y, weight):\n",
    "    return np.sign(y)*np.maximum(np.absolute(y) - weight, 0)\n",
    "def l2(a, b):\n",
    "    return np.linalg.norm(np.abs(a.flatten()) - np.abs(np.abs(b.flatten())))"
   ]
  },
  {
   "cell_type": "code",
   "execution_count": 10,
   "id": "1972732c-0e58-4cab-ae95-12c19e6a8cfa",
   "metadata": {},
   "outputs": [],
   "source": [
    "class Encoding_op:\n",
    "    def __init__(self, shape, mask, sensMap):\n",
    "        [self.ny, self.nx, self.nt, self.nc] = shape\n",
    "        self.mask = mask \n",
    "        self.sensMap = sensMap \n",
    "    def fwd(self, image):\n",
    "        image = image.reshape(self.ny, self.nx, self.nt)\n",
    "        out = np.zeros([self.ny, self.nx, self.nt, self.nc], dtype = complex)\n",
    "        for t in range(self.nt):\n",
    "            for c in range(self.nc):\n",
    "                out[:,:,t,c] = image[:,:,t] * sensMap[:,:,c]\n",
    "        data = fft2c(out)\n",
    "        dataR = data *  self.mask \n",
    "        return dataR\n",
    "    def adj(self, dataR):\n",
    "        dataR = dataR.reshape(self.ny, self.nx, self.nt, self.nc)\n",
    "        M = np.zeros([self.ny, self.nx, self.nt], dtype = complex)\n",
    "        images = ifft2c(dataR * self.mask)\n",
    "        for t in range(self.nt):\n",
    "            M[:,:,t] = np.sum(images[:,:,t,:] * self.sensMap.conj(), -1) /np.sum(np.abs(self.sensMap)**2,-1)\n",
    "        return M "
   ]
  },
  {
   "cell_type": "code",
   "execution_count": 32,
   "id": "ced9bcc6-2f6a-421a-8089-097159910abb",
   "metadata": {},
   "outputs": [],
   "source": [
    "data = scipy.io.loadmat(\"cardiac_cine_R6.mat\")\n",
    "sensMap = data[\"b1\"]\n",
    "tmp = sensMap[:,::-1,:]\n",
    "sensMap = tmp[::-1]\n",
    "dataR = data[\"kdata\"]\n",
    "[ny, nx, nt, nc] = dataR.shape\n",
    "mask = np.copy(dataR)\n",
    "mask[mask!=0] = 1\n",
    "E = Encoding_op(dataR.shape, mask, sensMap)"
   ]
  },
  {
   "cell_type": "code",
   "execution_count": 36,
   "id": "afa9a9e7-d403-4448-b9ec-73b58822c099",
   "metadata": {},
   "outputs": [
    {
     "data": {
      "application/vnd.jupyter.widget-view+json": {
       "model_id": "10e4febb31084c038b26206abe5bad2e",
       "version_major": 2,
       "version_minor": 0
      },
      "text/plain": [
       "  0%|          | 0/10 [00:00<?, ?it/s]"
      ]
     },
     "metadata": {},
     "output_type": "display_data"
    },
    {
     "name": "stdout",
     "output_type": "stream",
     "text": [
      "6935.866500464256\n",
      "3610.3902285063973\n",
      "2105.2438810126755\n",
      "1552.1412327682992\n",
      "1136.490689397352\n",
      "987.019043307165\n",
      "780.6518238790047\n",
      "687.2539410408207\n",
      "566.3641888002298\n",
      "493.9233736585384\n"
     ]
    }
   ],
   "source": [
    "M = E.adj(dataR)\n",
    "M = M.reshape([ny * nx, nt])\n",
    "Lpre = M\n",
    "S = np.zeros([ny*nx, nt], dtype = complex)\n",
    "for i in tqdm(range(10)):\n",
    "    M0 = M\n",
    "    U, St, VT = np.linalg.svd(M-S,full_matrices=False)\n",
    "    St = l1_prox(St, St[0] * 0.01)\n",
    "    L = U @ np.diag(St) @  VT\n",
    "    S = ifft(l1_prox(fft1c((M-Lpre).reshape([nx,ny,nt]), 2),0.025),2).reshape(ny*nx, nt)\n",
    "    M = L  - E.adj(E.fwd(L )-dataR).reshape(ny * nx, nt)\n",
    "    Lpre=L\n",
    "    print(l2(M, M0))"
   ]
  },
  {
   "cell_type": "code",
   "execution_count": 37,
   "id": "c7fe6878-c86e-445f-9839-f6d0e262d554",
   "metadata": {},
   "outputs": [
    {
     "data": {
      "application/vnd.jupyter.widget-view+json": {
       "model_id": "33f96bcca0094032b1d103737541700f",
       "version_major": 2,
       "version_minor": 0
      },
      "text/plain": [
       "interactive(children=(FloatSlider(value=0.0, description='idx', max=23.0, step=1.0), Output()), _dom_classes=(…"
      ]
     },
     "metadata": {},
     "output_type": "display_data"
    }
   ],
   "source": [
    "L = L.reshape([ny, nx, nt])\n",
    "slider(L)"
   ]
  },
  {
   "cell_type": "code",
   "execution_count": 38,
   "id": "25f02b67-2e8f-40da-95da-378569b92599",
   "metadata": {},
   "outputs": [
    {
     "data": {
      "application/vnd.jupyter.widget-view+json": {
       "model_id": "ddc962a3b1cd4e26bceffb6c306dc6ae",
       "version_major": 2,
       "version_minor": 0
      },
      "text/plain": [
       "interactive(children=(FloatSlider(value=0.0, description='idx', max=23.0, step=1.0), Output()), _dom_classes=(…"
      ]
     },
     "metadata": {},
     "output_type": "display_data"
    }
   ],
   "source": [
    "S = S.reshape([ny, nx, nt])\n",
    "slider(S)"
   ]
  },
  {
   "cell_type": "code",
   "execution_count": null,
   "id": "70fa891a-cc1d-4062-b4b4-112518dc9d01",
   "metadata": {},
   "outputs": [],
   "source": []
  },
  {
   "cell_type": "code",
   "execution_count": null,
   "id": "c839eaf9-65bd-4e6a-a7ac-e8d5a3a4f63c",
   "metadata": {},
   "outputs": [],
   "source": []
  },
  {
   "cell_type": "code",
   "execution_count": null,
   "id": "698e0b6b-c601-4b37-bf29-0df7a83b79aa",
   "metadata": {},
   "outputs": [],
   "source": []
  },
  {
   "cell_type": "code",
   "execution_count": null,
   "id": "d8681f35-3081-46e9-8b48-9549c66eb719",
   "metadata": {},
   "outputs": [],
   "source": []
  }
 ],
 "metadata": {
  "kernelspec": {
   "display_name": "Python 3 (ipykernel)",
   "language": "python",
   "name": "python3"
  },
  "language_info": {
   "codemirror_mode": {
    "name": "ipython",
    "version": 3
   },
   "file_extension": ".py",
   "mimetype": "text/x-python",
   "name": "python",
   "nbconvert_exporter": "python",
   "pygments_lexer": "ipython3",
   "version": "3.10.9"
  }
 },
 "nbformat": 4,
 "nbformat_minor": 5
}
