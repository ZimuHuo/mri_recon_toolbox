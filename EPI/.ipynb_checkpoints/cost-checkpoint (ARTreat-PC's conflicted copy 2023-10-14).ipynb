{
 "cells": [
  {
   "cell_type": "code",
   "execution_count": 25,
   "id": "d8937945-3d71-427f-ad43-ac6419c1d29b",
   "metadata": {},
   "outputs": [],
   "source": [
    "import numpy as np\n",
    "import matplotlib.pyplot as plt\n",
    "import sys\n",
    "sys.path.insert(1, '../../')\n",
    "sys.path.insert(1, '../')\n",
    "from util.fft import *\n",
    "from util.entropy import *\n",
    "import util.simulator as simulate\n",
    "from util.coil import * \n",
    "from util.cgSolver import * "
   ]
  },
  {
   "cell_type": "code",
   "execution_count": 116,
   "id": "d0815f89-daa1-43e6-ad3c-2ddf09f5d2bd",
   "metadata": {},
   "outputs": [],
   "source": [
    "def acs(rawKspace,acsShape):\n",
    "    ny, nx = rawKspace.shape[:2]\n",
    "    [cny, cnx] = acsShape\n",
    "    idxx = int(np.floor((nx - cnx)/2))\n",
    "    idxy = int(np.floor((ny - cny)/2))\n",
    "    rawKspace[idxy:idxy+cny, idxx:idxx+cnx,...] = 0\n",
    "    return rawKspace\n",
    "def l2(a, b):\n",
    "    return np.sqrt(np.linalg.norm(np.abs(a.flatten()) - np.abs(np.abs(b.flatten()))))"
   ]
  },
  {
   "cell_type": "code",
   "execution_count": 117,
   "id": "c9ff8620-6873-436d-a2a5-60f126100d6f",
   "metadata": {},
   "outputs": [],
   "source": [
    "image = np.ones([256 , 256], dtype = complex)\n",
    "image *= (1+1j)\n",
    "image = acs(image, (100,100))"
   ]
  },
  {
   "cell_type": "code",
   "execution_count": 118,
   "id": "84f716eb-5b0c-4198-9943-00c4a86773c9",
   "metadata": {},
   "outputs": [
    {
     "data": {
      "image/png": "[encoded data removed]",
      "text/plain": [
       "<Figure size 640x480 with 2 Axes>"
      ]
     },
     "metadata": {},
     "output_type": "display_data"
    }
   ],
   "source": [
    "showc(image)"
   ]
  },
  {
   "cell_type": "code",
   "execution_count": 130,
   "id": "45410601-761e-4227-be3f-c01dce560b19",
   "metadata": {},
   "outputs": [],
   "source": [
    "def apply_epi_phase(data, tvecm):\n",
    "    recon = np.zeros(data.shape, dtype = complex)\n",
    "    tvec = np.ones(data.shape, dtype = complex)\n",
    "    tvec[1::2] = np.repeat(tvecm.reshape(1,-1),  data.shape[0]//2, 0)\n",
    "    data = ifft(data,1)\n",
    "    recon = data * tvec\n",
    "    recon = ifft(recon,0)\n",
    "    return fft2c(recon) \n",
    "def epi_phase_correction_even_odd(data, tvec):\n",
    "    [ny, nx] = data.shape\n",
    "    # tvecm = np.exp(1j*tvec).reshape(-1,1)\n",
    "    even = np.zeros(data.shape, dtype = complex)\n",
    "    odd = np.zeros(data.shape, dtype = complex)\n",
    "    even[::2] = data[::2]\n",
    "    odd[1::2] = data[1::2]\n",
    "    dataflag = np.zeros([nx, 1])\n",
    "    dataflag[1::2] = 1\n",
    "    odd = apply_epi_phase(odd, tvec)\n",
    "    ghost_data = ifft2c(even) + ifft2c(odd)\n",
    "    return ghost_data"
   ]
  },
  {
   "cell_type": "code",
   "execution_count": 197,
   "id": "5bc5c9e8-7969-4620-84b2-7ddb39f5494f",
   "metadata": {},
   "outputs": [],
   "source": [
    "def sake_forward(data, k):\n",
    "    [ny, nx] = data.shape\n",
    "    mat = np.zeros([(ny-k+1)*(nx-k+1), k * k ], dtype = complex)\n",
    "    idx = 0\n",
    "    for y in range(max(1, ny - k + 1)):\n",
    "        for x in range(max(1, nx - k + 1)):\n",
    "            mat[idx, :] = data[y:y+k, x:x+k].reshape(1,-1)\n",
    "            idx += 1\n",
    "    return mat\n",
    "def epi_lowrank_cost(data):\n",
    "    mat = sake_forward(fft2c(data), k = 3)\n",
    "    U, S, VT = np.linalg.svd(mat,full_matrices=False)\n",
    "    return np.sum(S[1:])\n",
    "def epi_ghostobject_cost(data):\n",
    "    ghost_data = np.abs(data)\n",
    "    ratio = (ghost_data * np.roll(ghost_data, -ny//2, 0))\n",
    "    return np.sum(ratio)\n",
    "def entropy(data):\n",
    "    if len(data.shape) > 2:\n",
    "        image = np.sum(np.abs(data)**2, -1)\n",
    "    else:\n",
    "        image = np.abs(data)**2\n",
    "    b = np.sqrt(image)/np.sum(image)\n",
    "    return np.abs(np.sum(b/np.log(b)))"
   ]
  },
  {
   "cell_type": "code",
   "execution_count": 217,
   "id": "3e220d2f-7358-4675-9f16-55f9945127b1",
   "metadata": {},
   "outputs": [
    {
     "data": {
      "application/vnd.jupyter.widget-view+json": {
       "model_id": "cca40725b4334f678f7f7135cac2cc36",
       "version_major": 2,
       "version_minor": 0
      },
      "text/plain": [
       "0it [00:00, ?it/s]"
      ]
     },
     "metadata": {},
     "output_type": "display_data"
    },
    {
     "name": "stderr",
     "output_type": "stream",
     "text": [
      "/var/folders/0t/zp1cwfnx6rl0dhc03cwjv33w0000gn/T/ipykernel_27499/1505256984.py:24: RuntimeWarning: divide by zero encountered in log\n",
      "  return np.abs(np.sum(b/np.log(b)))\n"
     ]
    }
   ],
   "source": [
    "ny, nx = image.shape\n",
    "x = np.linspace(-0.5, 0.5, nx)\n",
    "N = 3\n",
    "a_vec = np.linspace(0, 10, N)[:-1]\n",
    "b_vec = np.linspace(0, 1, N)[:-1]\n",
    "N = N-1\n",
    "ghost_level_l2 = np.zeros([N,N])\n",
    "ghost_level_rfov = np.zeros([N,N])\n",
    "ghost_level_rank = np.zeros([N,N])\n",
    "ghost_level_go = np.zeros([N,N])\n",
    "ghost_level_entropy = np.zeros([N,N])\n",
    "for i,a in tqdm(enumerate(a_vec)):\n",
    "    for j,b in enumerate(b_vec):\n",
    "        data = fft2c(image)\n",
    "        out = epi_phase_correction_even_odd(data, np.exp(1j* (a*x+b)) )\n",
    "        ghost_level_l2[i,j] = l2(image, out)\n",
    "        ghost_level_rfov[i,j] = l2(image[:5], out[:5])\n",
    "        ghost_level_rank[i,j] = epi_lowrank_cost(out)\n",
    "        ghost_level_go[i,j] = epi_ghostobject_cost(out)\n",
    "        ghost_level_entropy[i,j] = entropy(out)\n",
    "ghost_level_l2 -= np.min(ghost_level_l2)\n",
    "ghost_level_rfov -= np.min(ghost_level_rfov)\n",
    "ghost_level_rank -= np.min(ghost_level_rank)\n",
    "ghost_level_go -= np.min(ghost_level_go)\n",
    "ghost_level_entropy -= np.min(ghost_level_entropy)"
   ]
  },
  {
   "cell_type": "code",
   "execution_count": 229,
   "id": "595452a4-65bf-428a-ad59-07016d27d68c",
   "metadata": {},
   "outputs": [
    {
     "data": {
      "text/plain": [
       "<matplotlib.colorbar.Colorbar at 0x7f785290dd80>"
      ]
     },
     "execution_count": 229,
     "metadata": {},
     "output_type": "execute_result"
    },
    {
     "data": {
      "image/png": "[encoded data removed]",
      "text/plain": [
       "<Figure size 1600x1000 with 10 Axes>"
      ]
     },
     "metadata": {},
     "output_type": "display_data"
    }
   ],
   "source": [
    "import numpy as np\n",
    "from mpl_toolkits.mplot3d import Axes3D  \n",
    "# Axes3D import has side effects, it enables using projection='3d' in add_subplot\n",
    "import matplotlib.pyplot as plt\n",
    "import random\n",
    "\n",
    "from mpl_toolkits.axes_grid1 import ImageGrid\n",
    "cmax =  0.3\n",
    "fig = plt.figure(figsize = (16,10))\n",
    "grid = ImageGrid(fig, 111,\n",
    "                nrows_ncols = (1,5),\n",
    "                axes_pad = 0.4,\n",
    "                cbar_location = \"right\",\n",
    "                cbar_mode=\"each\",\n",
    "                cbar_size=\"2.5%\",\n",
    "                cbar_pad=0.05,\n",
    "                 aspect=True,\n",
    "                \n",
    "                )\n",
    "\n",
    "\n",
    "im1 = grid[0].imshow(abs(ghost_level_l2)/ np.max(ghost_level_l2), cmap = \"gray\")\n",
    "grid[0].set_xlabel(r'$ \\alpha $')\n",
    "grid[0].set_ylabel(r'$ \\beta $')\n",
    "grid[0].set_title(\"RMSE\")\n",
    "plt.colorbar(im1, cax=grid.cbar_axes[0])\n",
    "\n",
    "im2 = grid[1].imshow(abs(ghost_level_rfov)/ np.max(ghost_level_rfov), cmap = \"gray\")\n",
    "grid[1].set_xlabel(r'$ \\alpha $')\n",
    "grid[1].set_ylabel(r'$ \\beta $')\n",
    "grid[1].set_title(\"Residual Ghost\")\n",
    "# grid[0].tick_params(bottom=False, labelbottom=False, left=False, labelleft=False)\n",
    "plt.colorbar(im2, cax=grid.cbar_axes[1])\n",
    "\n",
    "im3 = grid[2].imshow(abs(ghost_level_entropy)/ np.max(ghost_level_entropy), cmap = \"gray\")\n",
    "grid[2].set_xlabel(r'$ \\alpha $')\n",
    "grid[2].set_ylabel(r'$ \\beta $')\n",
    "grid[2].set_title(\"Entropy cost\")\n",
    "# grid[0].tick_params(bottom=False, labelbottom=False, left=False, labelleft=False)\n",
    "plt.colorbar(im3, cax=grid.cbar_axes[2])\n",
    "\n",
    "im2 = grid[3].imshow(abs(ghost_level_go)/ np.max(ghost_level_go), cmap = \"gray\")\n",
    "grid[3].set_xlabel(r'$ \\alpha $')\n",
    "grid[3].set_ylabel(r'$ \\beta $')\n",
    "grid[3].set_title(\"Ghost/Object cost\")\n",
    "# grid[0].tick_params(bottom=False, labelbottom=False, left=False, labelleft=False)\n",
    "plt.colorbar(im2, cax=grid.cbar_axes[3])\n",
    "\n",
    "im2 = grid[4].imshow(abs(ghost_level_rank)/ np.max(ghost_level_rank), cmap = \"gray\")\n",
    "grid[4].set_xlabel(r'$ \\alpha $')\n",
    "grid[4].set_ylabel(r'$ \\beta $')\n",
    "grid[4].set_title(\"SVD cost\")\n",
    "# grid[0].tick_params(bottom=False, labelbottom=False, left=False, labelleft=False)\n",
    "plt.colorbar(im2, cax=grid.cbar_axes[4])\n",
    "plt.savefig(\"cost_surface.pdf\", format = \"pdf\", bbox_inches='tight')"
   ]
  },
  {
   "cell_type": "code",
   "execution_count": null,
   "id": "c11d922f-13dd-4336-90c2-1badf7d8be4a",
   "metadata": {},
   "outputs": [],
   "source": []
  }
 ],
 "metadata": {
  "kernelspec": {
   "display_name": "Python 3 (ipykernel)",
   "language": "python",
   "name": "python3"
  },
  "language_info": {
   "codemirror_mode": {
    "name": "ipython",
    "version": 3
   },
   "file_extension": ".py",
   "mimetype": "text/x-python",
   "name": "python",
   "nbconvert_exporter": "python",
   "pygments_lexer": "ipython3",
   "version": "3.10.9"
  }
 },
 "nbformat": 4,
 "nbformat_minor": 5
}
